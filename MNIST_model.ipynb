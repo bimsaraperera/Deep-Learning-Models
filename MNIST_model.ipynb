{
  "nbformat": 4,
  "nbformat_minor": 0,
  "metadata": {
    "colab": {
      "provenance": [],
      "mount_file_id": "150Bnk7zfv2ly-4CNA_M6AWaWkL8trW1v",
      "authorship_tag": "ABX9TyOzQpzAe1fTd9nnIun7FXV5",
      "include_colab_link": true
    },
    "kernelspec": {
      "name": "python3",
      "display_name": "Python 3"
    },
    "language_info": {
      "name": "python"
    },
    "accelerator": "GPU",
    "gpuClass": "standard"
  },
  "cells": [
    {
      "cell_type": "markdown",
      "metadata": {
        "id": "view-in-github",
        "colab_type": "text"
      },
      "source": [
        "<a href=\"https://colab.research.google.com/github/bimsaraperera/Deep-Learning-Models/blob/main/MNIST_model.ipynb\" target=\"_parent\"><img src=\"https://colab.research.google.com/assets/colab-badge.svg\" alt=\"Open In Colab\"/></a>"
      ]
    },
    {
      "cell_type": "code",
      "execution_count": null,
      "metadata": {
        "id": "sGi3QhmHDQff"
      },
      "outputs": [],
      "source": [
        "import torch\n",
        "import torchvision\n",
        "import numpy as np\n",
        "from torchvision.datasets import MNIST\n",
        "from torchvision.transforms import ToTensor\n",
        "from torch.utils.data.sampler import SubsetRandomSampler\n",
        "from torch.utils.data.dataloader import DataLoader"
      ]
    },
    {
      "cell_type": "code",
      "source": [
        "import matplotlib.pyplot as plt\n",
        "%matplotlib inline"
      ],
      "metadata": {
        "id": "00TkKr1aGrWg"
      },
      "execution_count": null,
      "outputs": []
    },
    {
      "cell_type": "code",
      "source": [
        "dataset = MNIST(root = '/content/drive/MyDrive/HandwrittenNumbers', train = True, transform= torchvision.transforms.ToTensor())"
      ],
      "metadata": {
        "id": "ElhJKDtDELrv"
      },
      "execution_count": null,
      "outputs": []
    },
    {
      "cell_type": "code",
      "source": [
        "len(dataset)"
      ],
      "metadata": {
        "colab": {
          "base_uri": "https://localhost:8080/"
        },
        "id": "5Las-lW4EtZY",
        "outputId": "1cb8ac38-64a2-46ab-fd10-ba5f54888043"
      },
      "execution_count": null,
      "outputs": [
        {
          "output_type": "execute_result",
          "data": {
            "text/plain": [
              "60000"
            ]
          },
          "metadata": {},
          "execution_count": 4
        }
      ]
    },
    {
      "cell_type": "code",
      "source": [
        "def split_indices(n, val_pct):\n",
        "  n_val = int(val_pct*n)\n",
        "  idxs = np.random.permutation(n)\n",
        "  return idxs[n_val:], idxs[:n_val]"
      ],
      "metadata": {
        "id": "SiMoW62TEg77"
      },
      "execution_count": null,
      "outputs": []
    },
    {
      "cell_type": "code",
      "source": [
        "train_indices, val_indices = split_indices(len(dataset), val_pct=0.2)\n"
      ],
      "metadata": {
        "id": "an0M8jkoFf18"
      },
      "execution_count": null,
      "outputs": []
    },
    {
      "cell_type": "code",
      "source": [
        "batch_size = 100\n",
        "\n",
        "train_sampler = SubsetRandomSampler(train_indices)\n",
        "train_loader = DataLoader(dataset, batch_size, sampler = train_sampler)\n",
        "\n",
        "val_sampler = SubsetRandomSampler(val_indices)\n",
        "val_loader = DataLoader(dataset, batch_size, sampler = val_sampler)"
      ],
      "metadata": {
        "id": "Aa-JM_PJFshQ"
      },
      "execution_count": null,
      "outputs": []
    },
    {
      "cell_type": "code",
      "source": [
        "import torch.nn as nn\n",
        "import torch.nn.functional as F"
      ],
      "metadata": {
        "id": "kaj_jvcPGbvG"
      },
      "execution_count": null,
      "outputs": []
    },
    {
      "cell_type": "code",
      "source": [
        "class MnistModel(nn.Module):\n",
        "  def __init__(self,in_size,hidden_size1,hidden_size2,out_size):\n",
        "    super().__init__()\n",
        "    self.linear1 = nn.Linear(in_size,hidden_size1)\n",
        "    self.linear2 = nn.Linear(hidden_size1,hidden_size2)\n",
        "    self.linear3 = nn.Linear(hidden_size2, out_size)\n",
        "\n",
        "  def forward(self, xb):\n",
        "    xb = xb.view(xb.size(0), -1)\n",
        "    out = self.linear1(xb)\n",
        "    out = F.relu(out)\n",
        "    out = self.linear2(out)\n",
        "    out = F.relu(out)\n",
        "    out = self.linear3(out)\n",
        "    return out"
      ],
      "metadata": {
        "id": "VcNWrgBjimhI"
      },
      "execution_count": null,
      "outputs": []
    },
    {
      "cell_type": "code",
      "source": [
        "input_size = 784\n",
        "num_classes = 10\n",
        "\n",
        "model = MnistModel(input_size,hidden_size1=128,hidden_size2=32,out_size=num_classes)"
      ],
      "metadata": {
        "id": "PASXGwbqizzE"
      },
      "execution_count": null,
      "outputs": []
    },
    {
      "cell_type": "code",
      "source": [
        "torch.cuda.is_available()"
      ],
      "metadata": {
        "colab": {
          "base_uri": "https://localhost:8080/"
        },
        "id": "E4d1KlVw1Sa0",
        "outputId": "550c2552-0853-402b-9cb6-2354ba81b780"
      },
      "execution_count": null,
      "outputs": [
        {
          "output_type": "execute_result",
          "data": {
            "text/plain": [
              "True"
            ]
          },
          "metadata": {},
          "execution_count": 11
        }
      ]
    },
    {
      "cell_type": "code",
      "source": [
        "def get_default_device():\n",
        "  if torch.cuda.is_available():\n",
        "    return torch.device('cuda')\n",
        "  else:\n",
        "    return torch.device('cpu')"
      ],
      "metadata": {
        "id": "Zr-EI7nq2lF4"
      },
      "execution_count": null,
      "outputs": []
    },
    {
      "cell_type": "code",
      "source": [
        "device = get_default_device()\n",
        "device"
      ],
      "metadata": {
        "id": "ZlatxwTX25DY",
        "colab": {
          "base_uri": "https://localhost:8080/"
        },
        "outputId": "b76c63c2-62f9-484e-b297-91e724cbf000"
      },
      "execution_count": null,
      "outputs": [
        {
          "output_type": "execute_result",
          "data": {
            "text/plain": [
              "device(type='cuda')"
            ]
          },
          "metadata": {},
          "execution_count": 13
        }
      ]
    },
    {
      "cell_type": "code",
      "source": [
        "def to_device(data, device):\n",
        "    if isinstance(data, (list,tuple)):\n",
        "        return [to_device(x, device) for x in data]\n",
        "    return data.to(device, non_blocking=True)"
      ],
      "metadata": {
        "id": "nujKjfUC2-cU"
      },
      "execution_count": null,
      "outputs": []
    },
    {
      "cell_type": "code",
      "source": [
        "class DeviceDataLoader():\n",
        "    def __init__(self, dl, device):\n",
        "        self.dl = dl\n",
        "        self.device = device\n",
        "        \n",
        "    def __iter__(self):\n",
        "        for b in self.dl: \n",
        "            yield to_device(b, self.device)\n",
        "\n",
        "    def __len__(self):\n",
        "        return len(self.dl)"
      ],
      "metadata": {
        "id": "5wd4hy8E3PYq"
      },
      "execution_count": null,
      "outputs": []
    },
    {
      "cell_type": "code",
      "source": [
        "train_loader = DeviceDataLoader(train_loader, device)\n",
        "val_loader = DeviceDataLoader(val_loader, device)"
      ],
      "metadata": {
        "id": "dofsF7O43t0o"
      },
      "execution_count": null,
      "outputs": []
    },
    {
      "cell_type": "code",
      "source": [
        "model = to_device(model, device)"
      ],
      "metadata": {
        "id": "VqeYMQcIEMyH"
      },
      "execution_count": null,
      "outputs": []
    },
    {
      "cell_type": "code",
      "source": [
        "loss_fn = F.cross_entropy"
      ],
      "metadata": {
        "id": "SLnfKCbB_hev"
      },
      "execution_count": null,
      "outputs": []
    },
    {
      "cell_type": "code",
      "source": [
        "learning_rate = 0.1\n",
        "optimizer = torch.optim.SGD(model.parameters(), lr = learning_rate)"
      ],
      "metadata": {
        "id": "Irba4y0XGdmB"
      },
      "execution_count": null,
      "outputs": []
    },
    {
      "cell_type": "code",
      "source": [
        "def loss_batch(model, loss_func, xb, yb, opt = None, metric = None):\n",
        "  preds = model(xb)\n",
        "  loss = loss_func(preds, yb)\n",
        "\n",
        "  if opt is not None:\n",
        "    loss.backward()\n",
        "    opt.step()\n",
        "    opt.zero_grad()\n",
        "\n",
        "  if metric is not None:\n",
        "    metric_result = metric(preds, yb)\n",
        "\n",
        "  return loss.item() , len(xb), metric_result"
      ],
      "metadata": {
        "id": "9BLwH1rqARK0"
      },
      "execution_count": null,
      "outputs": []
    },
    {
      "cell_type": "code",
      "source": [
        "def evaluate(model, loss_func, valid_dl, metric = None):\n",
        "  with torch.no_grad():\n",
        "    results =[loss_batch(model, loss_fn, xb, yb, metric = metric) for xb, yb in valid_dl]\n",
        "    losses, nums, metrics = zip(*results)\n",
        "    total = np.sum(nums)\n",
        "    avg_loss = np.sum(np.multiply(losses, nums))/total\n",
        "    avg_metric = None\n",
        "    \n",
        "    if metric is not None:\n",
        "      avg_metric = np.sum(np.multiply(metrics, nums))/total\n",
        "    \n",
        "    return avg_loss,total,avg_metric\n"
      ],
      "metadata": {
        "id": "I2HULoqAA8jH"
      },
      "execution_count": null,
      "outputs": []
    },
    {
      "cell_type": "code",
      "source": [
        "def accuracy(outputs, labels):\n",
        "  __, preds = torch.max(outputs, dim=1)\n",
        "\n",
        "  return torch.sum(preds==labels).item()/len(preds)"
      ],
      "metadata": {
        "id": "RzQXNfZeC2nV"
      },
      "execution_count": null,
      "outputs": []
    },
    {
      "cell_type": "code",
      "source": [
        "val_loss, total, val_acc = evaluate(model, loss_fn, val_loader, metric = accuracy)\n",
        "val_loss, val_acc"
      ],
      "metadata": {
        "colab": {
          "base_uri": "https://localhost:8080/"
        },
        "id": "GSbU_W8qDSY7",
        "outputId": "d3da7ced-fc81-40a5-99c7-02c1e5b1872a"
      },
      "execution_count": null,
      "outputs": [
        {
          "output_type": "execute_result",
          "data": {
            "text/plain": [
              "(2.3032334566116335, 0.04066666666666666)"
            ]
          },
          "metadata": {},
          "execution_count": 23
        }
      ]
    },
    {
      "cell_type": "code",
      "source": [
        "def fit(epochs, model, loss_fn, opt, train_dl, valid_dl, metric = None):\n",
        "  for epoch in range(epochs):\n",
        "    for xb, yb in train_dl:\n",
        "      loss,_,_ = loss_batch(model, loss_fn, xb, yb, opt, metric)\n",
        "\n",
        "    result = evaluate(model, loss_fn, valid_dl, metric)\n",
        "    val_loss, total, val_acc = result\n",
        "\n",
        "    if metric is None:\n",
        "      print('Epoch [{}/{}], Loss: {:.4f}'.format(epoch+1,epochs,val_loss))\n",
        "    else:\n",
        "      print('Epoch [{}/{}], Loss: {:.4f}, {}:{:.4f}'.format(epoch+1,epochs,val_loss,metric.__name__,val_acc))"
      ],
      "metadata": {
        "id": "dixf4rIYFLRT"
      },
      "execution_count": null,
      "outputs": []
    },
    {
      "cell_type": "code",
      "source": [
        "fit(20, model, loss_fn, optimizer, train_loader, val_loader, accuracy)"
      ],
      "metadata": {
        "colab": {
          "base_uri": "https://localhost:8080/"
        },
        "id": "ZjMmQP1ZLYEX",
        "outputId": "8b25eb9c-e795-49fe-edef-2118889d3a1e"
      },
      "execution_count": null,
      "outputs": [
        {
          "output_type": "stream",
          "name": "stdout",
          "text": [
            "Epoch [1/20], Loss: 0.3155, accuracy:0.9083\n",
            "Epoch [2/20], Loss: 0.2268, accuracy:0.9357\n",
            "Epoch [3/20], Loss: 0.1845, accuracy:0.9472\n",
            "Epoch [4/20], Loss: 0.1564, accuracy:0.9545\n",
            "Epoch [5/20], Loss: 0.1348, accuracy:0.9604\n",
            "Epoch [6/20], Loss: 0.1368, accuracy:0.9588\n",
            "Epoch [7/20], Loss: 0.1170, accuracy:0.9658\n",
            "Epoch [8/20], Loss: 0.1067, accuracy:0.9685\n",
            "Epoch [9/20], Loss: 0.1095, accuracy:0.9672\n",
            "Epoch [10/20], Loss: 0.1142, accuracy:0.9671\n",
            "Epoch [11/20], Loss: 0.1042, accuracy:0.9696\n",
            "Epoch [12/20], Loss: 0.0961, accuracy:0.9710\n",
            "Epoch [13/20], Loss: 0.1009, accuracy:0.9701\n",
            "Epoch [14/20], Loss: 0.0924, accuracy:0.9744\n",
            "Epoch [15/20], Loss: 0.0968, accuracy:0.9732\n",
            "Epoch [16/20], Loss: 0.0924, accuracy:0.9747\n",
            "Epoch [17/20], Loss: 0.0985, accuracy:0.9723\n",
            "Epoch [18/20], Loss: 0.0922, accuracy:0.9742\n",
            "Epoch [19/20], Loss: 0.0895, accuracy:0.9750\n",
            "Epoch [20/20], Loss: 0.0890, accuracy:0.9756\n"
          ]
        }
      ]
    },
    {
      "cell_type": "code",
      "source": [
        "test_dataset = MNIST(root = '/content/drive/MyDrive/HandwrittenNumbers', train = False, transform= torchvision.transforms.ToTensor())"
      ],
      "metadata": {
        "id": "LBMpDsViw9tv"
      },
      "execution_count": null,
      "outputs": []
    },
    {
      "cell_type": "code",
      "source": [],
      "metadata": {
        "id": "-M7wIKqexyl8"
      },
      "execution_count": null,
      "outputs": []
    },
    {
      "cell_type": "code",
      "source": [
        "def predict_image(img, model):\n",
        "  xb = img.unsqueeze(0)\n",
        "  yb = model(xb)\n",
        "  _, preds = torch.max(yb, dim=1)\n",
        "  return preds[0].item()"
      ],
      "metadata": {
        "id": "OieNJj7SxHyf"
      },
      "execution_count": null,
      "outputs": []
    },
    {
      "cell_type": "code",
      "source": [
        "img, label = test_dataset[4910]\n",
        "imga = to_device(img,device)\n",
        "plt.imshow(img[0], cmap='gray')\n",
        "print('Label:', label, ' Predicted:', predict_image(imga, model))"
      ],
      "metadata": {
        "colab": {
          "base_uri": "https://localhost:8080/",
          "height": 282
        },
        "id": "cyq6HOCpw2Ld",
        "outputId": "1ae5de1d-17c4-4fed-de2e-5e37e9834407"
      },
      "execution_count": null,
      "outputs": [
        {
          "output_type": "stream",
          "name": "stdout",
          "text": [
            "Label: 9  Predicted: 9\n"
          ]
        },
        {
          "output_type": "display_data",
          "data": {
            "text/plain": [
              "<Figure size 432x288 with 1 Axes>"
            ],
            "image/png": "[encoded data removed]"
          },
          "metadata": {
            "needs_background": "light"
          }
        }
      ]
    }
  ]
}